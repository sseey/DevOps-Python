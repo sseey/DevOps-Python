{
 "cells": [
  {
   "cell_type": "markdown",
   "metadata": {},
   "source": [
    "Install Libraries"
   ]
  },
  {
   "cell_type": "code",
   "execution_count": null,
   "metadata": {},
   "outputs": [],
   "source": [
    "# Uncomment the lines below to install necessary libraries if they are not already installed\n",
    "\n",
    "# !pip install numpy pandas requests"
   ]
  },
  {
   "cell_type": "markdown",
   "metadata": {},
   "source": [
    "\n",
    "\n",
    "## **Lab Exercise: Putting It All Together**\n",
    "\n",
    "Now it's time to apply what you've learned! This lab exercise is designed to take approximately **15 minutes**.\n",
    "\n",
    "### **Exercise Instructions**\n",
    "\n",
    "You will create a simple program that:\n",
    "\n",
    "1. **Reads data from a CSV file.** If you don't have a CSV file, you can use the provided sample data.\n",
    "2. **Processes the data using Pandas and NumPy.**\n",
    "3. **Defines and uses functions and classes.**\n",
    "4. **Performs data analysis and outputs results.**\n",
    "\n",
    "### **Steps**\n",
    "\n",
    "#### **a. Create or Load a CSV File**\n",
    "\n",
    "- Create a CSV file named `students.csv` with the following content:\n",
    "\n",
    "```\n",
    "columns: Name,Math,Science,English\n",
    "rows:\n",
    "Alice,85,90,95\n",
    "Bob,75,80,70\n",
    "Charlie,95,100,100\n",
    "Diana,65,70,60\n",
    "Edward,80,85,88\n",
    "```\n",
    "use `df.to_csv(filename, index=False)` to save dataframe as csv\n"
   ]
  },
  {
   "cell_type": "code",
   "execution_count": null,
   "metadata": {},
   "outputs": [],
   "source": [
    "# Sample code to create the CSV file\n",
    "import pandas as pd\n",
    "# Complete the code here"
   ]
  },
  {
   "cell_type": "markdown",
   "metadata": {},
   "source": [
    "#### **b. Read the CSV File into a DataFrame**\n",
    "df = pd.read_csv(filename)"
   ]
  },
  {
   "cell_type": "code",
   "execution_count": null,
   "metadata": {},
   "outputs": [],
   "source": [
    "# Read the CSV file\n",
    "# Complete the code here\n",
    "\n",
    "\n",
    "\n",
    "print(\"Students Data:\\n\", df)"
   ]
  },
  {
   "cell_type": "markdown",
   "metadata": {},
   "source": [
    "#### **c. Calculate the Average Score for Each Student**\n",
    "\n",
    "- Use a lambda function to calculate the average score across subjects."
   ]
  },
  {
   "cell_type": "code",
   "execution_count": null,
   "metadata": {},
   "outputs": [],
   "source": [
    "# Calculate average score\n",
    "df['Average'] = df[['Math', 'Science', 'English']].mean(axis=1)\n",
    "print(\"Data with Average Scores:\\n\", df)"
   ]
  },
  {
   "cell_type": "markdown",
   "metadata": {},
   "source": [
    "#### **d. Determine the Grade for Each Student**\n",
    "\n",
    "- Define a function that assigns a grade based on the average score:\n",
    "\n",
    "  - 90 and above: 'A'\n",
    "  - 80-89: 'B'\n",
    "  - 70-79: 'C'\n",
    "  - 60-69: 'D'\n",
    "  - Below 60: 'F'"
   ]
  },
  {
   "cell_type": "code",
   "execution_count": null,
   "metadata": {},
   "outputs": [],
   "source": [
    "# Function to determine grade\n",
    "def assign_grade(average):\n",
    "    # Complete the code here\n",
    "    \n",
    "\n",
    "# Apply the function to assign grades\n",
    "df['Grade'] = df['Average'].apply(assign_grade)\n",
    "print(\"Data with Grades:\\n\", df)"
   ]
  },
  {
   "cell_type": "markdown",
   "metadata": {},
   "source": [
    "#### **e. Create a Class to Represent Each Student**\n",
    "\n",
    "- Define a `Student` class with attributes for name and scores, and methods to calculate the average and grade."
   ]
  },
  {
   "cell_type": "code",
   "execution_count": null,
   "metadata": {},
   "outputs": [],
   "source": [
    "class Student:\n",
    "    \n",
    "    # Complete the code here\n",
    "    # initiator\n",
    "\n",
    "    # calculate_average function\n",
    "\n",
    "    # assign_grade function\n",
    "\n",
    "\n",
    "    "
   ]
  },
  {
   "cell_type": "markdown",
   "metadata": {},
   "source": [
    "#### **f. Create Instances of the `Student` Class and Display Results**\n"
   ]
  },
  {
   "cell_type": "code",
   "execution_count": null,
   "metadata": {},
   "outputs": [],
   "source": [
    "# List to store student objects\n",
    "students = []\n",
    "\n",
    "# Iterate through the DataFrame and create Student objects\n",
    "for index, row in df.iterrows():\n",
    "    student = Student(row['Name'], row['Math'], row['Science'], row['English'])\n",
    "    students.append(student)\n",
    "\n",
    "# Display each student's details\n",
    "for student in students:\n",
    "    avg = student.calculate_average()\n",
    "    grade = student.assign_grade()\n",
    "    print(f\"Name: {student.name}, Average: {avg:.2f}, Grade: {grade}\")"
   ]
  },
  {
   "cell_type": "markdown",
   "metadata": {},
   "source": [
    "#### **g. Save the Updated Data to a New CSV File**"
   ]
  },
  {
   "cell_type": "code",
   "execution_count": null,
   "metadata": {},
   "outputs": [],
   "source": [
    "# Save the DataFrame with new columns to a CSV file\n",
    "df.to_csv('students_updated.csv', index=False)\n",
    "print(\"Updated data saved to 'students_updated.csv'\")"
   ]
  },
  {
   "cell_type": "markdown",
   "metadata": {},
   "source": [
    "### **Challenge Task (Optional)**\n",
    "- Use the `requests` library to fetch current exchange rates from an API and convert the average scores to another scale (e.g., out of 100 to GPA scale)."
   ]
  },
  {
   "cell_type": "code",
   "execution_count": null,
   "metadata": {},
   "outputs": [],
   "source": []
  }
 ],
 "metadata": {
  "kernelspec": {
   "display_name": "Python 3",
   "language": "python",
   "name": "python3"
  },
  "language_info": {
   "codemirror_mode": {
    "name": "ipython",
    "version": 3
   },
   "file_extension": ".py",
   "mimetype": "text/x-python",
   "name": "python",
   "nbconvert_exporter": "python",
   "pygments_lexer": "ipython3",
   "version": "3.9.6"
  }
 },
 "nbformat": 4,
 "nbformat_minor": 2
}
